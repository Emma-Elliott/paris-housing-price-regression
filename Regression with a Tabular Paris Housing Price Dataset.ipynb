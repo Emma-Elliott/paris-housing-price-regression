{
 "cells": [
  {
   "cell_type": "markdown",
   "id": "e0647ab3",
   "metadata": {},
   "source": [
    "### Setting up Kaggle API"
   ]
  },
  {
   "cell_type": "code",
   "execution_count": 2,
   "id": "fb13f2f7",
   "metadata": {},
   "outputs": [
    {
     "name": "stdout",
     "output_type": "stream",
     "text": [
      "Collecting kaggle\n",
      "  Downloading kaggle-1.7.4.2-py3-none-any.whl (173 kB)\n",
      "                                              0.0/173.2 kB ? eta -:--:--\n",
      "     --------                              41.0/173.2 kB 991.0 kB/s eta 0:00:01\n",
      "     -------------------------------------- 173.2/173.2 kB 2.1 MB/s eta 0:00:00\n",
      "Requirement already satisfied: bleach in c:\\users\\emmaelliot\\anaconda3\\lib\\site-packages (from kaggle) (4.1.0)\n",
      "Requirement already satisfied: certifi>=14.05.14 in c:\\users\\emmaelliot\\anaconda3\\lib\\site-packages (from kaggle) (2024.6.2)\n",
      "Requirement already satisfied: charset-normalizer in c:\\users\\emmaelliot\\anaconda3\\lib\\site-packages (from kaggle) (2.0.4)\n",
      "Requirement already satisfied: idna in c:\\users\\emmaelliot\\anaconda3\\lib\\site-packages (from kaggle) (3.7)\n",
      "Requirement already satisfied: protobuf in c:\\users\\emmaelliot\\anaconda3\\lib\\site-packages (from kaggle) (4.25.1)\n",
      "Requirement already satisfied: python-dateutil>=2.5.3 in c:\\users\\emmaelliot\\anaconda3\\lib\\site-packages (from kaggle) (2.9.0.post0)\n",
      "Collecting python-slugify (from kaggle)\n",
      "  Downloading python_slugify-8.0.4-py2.py3-none-any.whl (10 kB)\n",
      "Requirement already satisfied: requests in c:\\users\\emmaelliot\\anaconda3\\lib\\site-packages (from kaggle) (2.31.0)\n",
      "Requirement already satisfied: setuptools>=21.0.0 in c:\\users\\emmaelliot\\anaconda3\\lib\\site-packages (from kaggle) (67.8.0)\n",
      "Requirement already satisfied: six>=1.10 in c:\\users\\emmaelliot\\anaconda3\\lib\\site-packages (from kaggle) (1.16.0)\n",
      "Collecting text-unidecode (from kaggle)\n",
      "  Downloading text_unidecode-1.3-py2.py3-none-any.whl (78 kB)\n",
      "                                              0.0/78.2 kB ? eta -:--:--\n",
      "     ---------------------------------------- 78.2/78.2 kB ? eta 0:00:00\n",
      "Requirement already satisfied: tqdm in c:\\users\\emmaelliot\\anaconda3\\lib\\site-packages (from kaggle) (4.66.4)\n",
      "Requirement already satisfied: urllib3>=1.15.1 in c:\\users\\emmaelliot\\anaconda3\\lib\\site-packages (from kaggle) (1.26.18)\n",
      "Requirement already satisfied: webencodings in c:\\users\\emmaelliot\\anaconda3\\lib\\site-packages (from kaggle) (0.5.1)\n",
      "Requirement already satisfied: packaging in c:\\users\\emmaelliot\\anaconda3\\lib\\site-packages (from bleach->kaggle) (23.2)\n",
      "Requirement already satisfied: colorama in c:\\users\\emmaelliot\\anaconda3\\lib\\site-packages (from tqdm->kaggle) (0.4.6)\n",
      "Installing collected packages: text-unidecode, python-slugify, kaggle\n",
      "Successfully installed kaggle-1.7.4.2 python-slugify-8.0.4 text-unidecode-1.3\n"
     ]
    }
   ],
   "source": [
    "!pip install kaggle"
   ]
  },
  {
   "cell_type": "code",
   "execution_count": 7,
   "id": "e67e960e",
   "metadata": {},
   "outputs": [],
   "source": [
    "import os\n",
    "os.environ['KAGGLE_CONFIG_DIR'] = \"C:/Users/EmmaElliot/.kaggle\""
   ]
  },
  {
   "cell_type": "markdown",
   "id": "8c7872ee",
   "metadata": {},
   "source": [
    "### Downloading the Dataset using the Kaggle API"
   ]
  },
  {
   "cell_type": "code",
   "execution_count": 11,
   "id": "e1b5a07d",
   "metadata": {},
   "outputs": [],
   "source": [
    "!kaggle competitions download -c playground-series-s3e6"
   ]
  },
  {
   "cell_type": "code",
   "execution_count": 2,
   "id": "7451e7a7",
   "metadata": {},
   "outputs": [],
   "source": [
    "import zipfile\n",
    "\n",
    "with zipfile.ZipFile('playground-series-s3e6.zip', 'r') as zip_ref:\n",
    "    zip_ref.extractall(\"C:/Users/EmmaElliot/OneDrive - True South Technology/Documents/Data Science/Data Science Fast Track/Kaggle Projects/Paris Housing Price Dataset\")"
   ]
  },
  {
   "cell_type": "markdown",
   "id": "5be5ac20",
   "metadata": {},
   "source": [
    "## Project"
   ]
  },
  {
   "cell_type": "code",
   "execution_count": 1,
   "id": "45b4abde",
   "metadata": {},
   "outputs": [],
   "source": [
    "# importing necessary libraries \n",
    "\n",
    "import pandas as pd"
   ]
  },
  {
   "cell_type": "code",
   "execution_count": 2,
   "id": "2e80bea2",
   "metadata": {},
   "outputs": [],
   "source": [
    "df = pd.read_csv('test.csv')"
   ]
  },
  {
   "cell_type": "code",
   "execution_count": null,
   "id": "1c63a248",
   "metadata": {},
   "outputs": [],
   "source": []
  }
 ],
 "metadata": {
  "kernelspec": {
   "display_name": "base",
   "language": "python",
   "name": "python3"
  },
  "language_info": {
   "codemirror_mode": {
    "name": "ipython",
    "version": 3
   },
   "file_extension": ".py",
   "mimetype": "text/x-python",
   "name": "python",
   "nbconvert_exporter": "python",
   "pygments_lexer": "ipython3",
   "version": "3.10.13"
  }
 },
 "nbformat": 4,
 "nbformat_minor": 5
}
